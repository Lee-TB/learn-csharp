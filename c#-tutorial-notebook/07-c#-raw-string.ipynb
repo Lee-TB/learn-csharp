{
 "cells": [
  {
   "cell_type": "markdown",
   "metadata": {},
   "source": [
    "# C# Raw String"
   ]
  },
  {
   "cell_type": "code",
   "execution_count": 1,
   "metadata": {
    "dotnet_interactive": {
     "language": "csharp"
    },
    "polyglot_notebook": {
     "kernelName": "csharp"
    },
    "vscode": {
     "languageId": "polyglot-notebook"
    }
   },
   "outputs": [
    {
     "name": "stdout",
     "output_type": "stream",
     "text": [
      "C:\\temp\\no.txt\r\n"
     ]
    }
   ],
   "source": [
    "var path = @\"C:\\temp\\no.txt\"; // verbatim string\n",
    "Console.WriteLine(path);"
   ]
  },
  {
   "cell_type": "code",
   "execution_count": 2,
   "metadata": {
    "dotnet_interactive": {
     "language": "csharp"
    },
    "polyglot_notebook": {
     "kernelName": "csharp"
    },
    "vscode": {
     "languageId": "polyglot-notebook"
    }
   },
   "outputs": [
    {
     "name": "stdout",
     "output_type": "stream",
     "text": [
      "{ \"name\": \"John Doe\"}\r\n"
     ]
    }
   ],
   "source": [
    "var response = \"{ \\\"name\\\": \\\"John Doe\\\"}\"; // Escape sequences\n",
    "Console.WriteLine(response);"
   ]
  },
  {
   "cell_type": "markdown",
   "metadata": {},
   "source": [
    "### Raw string literals"
   ]
  },
  {
   "cell_type": "code",
   "execution_count": 4,
   "metadata": {
    "dotnet_interactive": {
     "language": "csharp"
    },
    "polyglot_notebook": {
     "kernelName": "csharp"
    },
    "vscode": {
     "languageId": "polyglot-notebook"
    }
   },
   "outputs": [
    {
     "name": "stdout",
     "output_type": "stream",
     "text": [
      "{ \"name\": \"John Doe\"}\r\n"
     ]
    }
   ],
   "source": [
    "var json = \"\"\"{ \"name\": \"John Doe\"}\"\"\";\n",
    "Console.WriteLine(json);"
   ]
  },
  {
   "cell_type": "markdown",
   "metadata": {},
   "source": [
    "If the string itself may use `three` quotes then the raw string can have longer starting/ending delimiters, which are `four` quotes like this:"
   ]
  },
  {
   "cell_type": "code",
   "execution_count": 5,
   "metadata": {
    "dotnet_interactive": {
     "language": "csharp"
    },
    "polyglot_notebook": {
     "kernelName": "csharp"
    },
    "vscode": {
     "languageId": "polyglot-notebook"
    }
   },
   "outputs": [
    {
     "name": "stdout",
     "output_type": "stream",
     "text": [
      " C# raw string uses a minimum of \"\"\"  \r\n"
     ]
    }
   ],
   "source": [
    "var s = \"\"\"\" C# raw string uses a minimum of \"\"\"  \"\"\"\";\n",
    "Console.WriteLine(s);"
   ]
  },
  {
   "cell_type": "markdown",
   "metadata": {},
   "source": [
    "#### Multi-line raw string literals"
   ]
  },
  {
   "cell_type": "code",
   "execution_count": 9,
   "metadata": {
    "dotnet_interactive": {
     "language": "csharp"
    },
    "polyglot_notebook": {
     "kernelName": "csharp"
    },
    "vscode": {
     "languageId": "polyglot-notebook"
    }
   },
   "outputs": [
    {
     "name": "stdout",
     "output_type": "stream",
     "text": [
      "{ \r\n",
      "    \"name\": \"John Doe\",\r\n",
      "    \"address\": {\r\n",
      "        \"home\": \"4000 N. 1st street\",\r\n",
      "        \"work\": \"101 N. 1st street\"\r\n",
      "    }\r\n",
      "}\r\n"
     ]
    }
   ],
   "source": [
    "var json = \"\"\"\n",
    "    { \n",
    "        \"name\": \"John Doe\",\n",
    "        \"address\": {\n",
    "            \"home\": \"4000 N. 1st street\",\n",
    "            \"work\": \"101 N. 1st street\"\n",
    "        }\n",
    "    }\n",
    "    \"\"\";\n",
    "Console.WriteLine(json)"
   ]
  },
  {
   "cell_type": "markdown",
   "metadata": {},
   "source": [
    "#### Raw string interpolation"
   ]
  },
  {
   "cell_type": "markdown",
   "metadata": {},
   "source": [
    "with double dollar sign `$$`, and double opening and closing curly braces `{{}}`"
   ]
  },
  {
   "cell_type": "code",
   "execution_count": 12,
   "metadata": {
    "dotnet_interactive": {
     "language": "csharp"
    },
    "polyglot_notebook": {
     "kernelName": "csharp"
    },
    "vscode": {
     "languageId": "polyglot-notebook"
    }
   },
   "outputs": [
    {
     "name": "stdout",
     "output_type": "stream",
     "text": [
      " {\"Name\": \"John Doe\" } \r\n"
     ]
    }
   ],
   "source": [
    "var name = \"John Doe\";\n",
    "var json = $$\"\"\" {\"Name\": \"{{name}}\" } \"\"\";\n",
    "\n",
    "Console.WriteLine(json);"
   ]
  },
  {
   "cell_type": "markdown",
   "metadata": {},
   "source": [
    "A raw string is a minimum of opening and closing three `\"\"\"` double quotes, so you can construct a raw string with any numbers >= 3 of opening and closing double quotes"
   ]
  },
  {
   "cell_type": "code",
   "execution_count": 20,
   "metadata": {
    "dotnet_interactive": {
     "language": "csharp"
    },
    "polyglot_notebook": {
     "kernelName": "csharp"
    },
    "vscode": {
     "languageId": "polyglot-notebook"
    }
   },
   "outputs": [
    {
     "data": {
      "text/plain": [
       " \"\"\"\"\" "
      ]
     },
     "metadata": {},
     "output_type": "display_data"
    }
   ],
   "source": [
    "\"\"\"\"\"\" \"\"\"\"\" \"\"\"\"\"\""
   ]
  }
 ],
 "metadata": {
  "language_info": {
   "name": "csharp"
  },
  "orig_nbformat": 4
 },
 "nbformat": 4,
 "nbformat_minor": 2
}
