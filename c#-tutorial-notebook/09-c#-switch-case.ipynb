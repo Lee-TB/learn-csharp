{
 "cells": [
  {
   "cell_type": "markdown",
   "metadata": {},
   "source": [
    "# C# Switch-Case"
   ]
  },
  {
   "cell_type": "code",
   "execution_count": 1,
   "metadata": {
    "dotnet_interactive": {
     "language": "csharp"
    },
    "polyglot_notebook": {
     "kernelName": "csharp"
    },
    "vscode": {
     "languageId": "polyglot-notebook"
    }
   },
   "outputs": [
    {
     "name": "stdout",
     "output_type": "stream",
     "text": [
      "Q1\r\n"
     ]
    }
   ],
   "source": [
    "int month = 1;\n",
    "string quarter;\n",
    "\n",
    "switch(month)\n",
    "{\n",
    "    case 1:\n",
    "    case 2:\n",
    "    case 3:\n",
    "        quarter = \"Q1\";\n",
    "        break;\n",
    "    case 4:\n",
    "    case 5:\n",
    "    case 6:\n",
    "        quarter = \"Q2\";\n",
    "        break;\n",
    "    case 7:\n",
    "    case 8:    \n",
    "    case 9:\n",
    "        quarter = \"Q3\";\n",
    "        break;\n",
    "    case 10:\n",
    "    case 11:\n",
    "    case 12:\n",
    "        quarter = \"Q4\";\n",
    "        break;\n",
    "    default:\n",
    "        \n",
    "        break;\n",
    "}\n",
    "Console.WriteLine(quarter);"
   ]
  },
  {
   "cell_type": "markdown",
   "metadata": {},
   "source": [
    "##### C# switch statement with relation pattern\n",
    "starting in C# 9, you can use the relational operator `>`, `>=`, `<`, `<=` to match the result of the expression with constants in the switch statement."
   ]
  },
  {
   "cell_type": "code",
   "execution_count": 4,
   "metadata": {
    "dotnet_interactive": {
     "language": "csharp"
    },
    "polyglot_notebook": {
     "kernelName": "csharp"
    },
    "vscode": {
     "languageId": "polyglot-notebook"
    }
   },
   "outputs": [
    {
     "name": "stdout",
     "output_type": "stream",
     "text": [
      "Body Mass Index (BMI) Calculation\n",
      "Weight (kg): 50\n",
      "Height (m): 1.55\n",
      "BMI: 20.81\n",
      "Weight Status: Healthy Weight\n"
     ]
    }
   ],
   "source": [
    "Console.WriteLine(\"Body Mass Index (BMI) Calculation\");\n",
    "\n",
    "var weight = 50.00;\n",
    "Console.WriteLine($\"Weight (kg): {weight}\");\n",
    "\n",
    "var height = 1.55;\n",
    "Console.WriteLine($\"Height (m): {height}\");\n",
    "\n",
    "var bmi = weight / (height * height);\n",
    "var weightStatus = \"\";\n",
    "\n",
    "switch(bmi)\n",
    "{\n",
    "    case < 18.5:\n",
    "        weightStatus = \"Underweight\";\n",
    "        break;\n",
    "    case >= 18.5 and <= 24.9:\n",
    "        weightStatus = \"Healthy Weight\";\n",
    "        break;\n",
    "    case >= 25 and <= 29.9:\n",
    "        weightStatus = \"Overweight\";\n",
    "        break;\n",
    "    case > 30:\n",
    "        weightStatus = \"Obesity\";\n",
    "        break;\n",
    "}\n",
    "\n",
    "Console.WriteLine($\"BMI: {bmi:0.##}\");\n",
    "Console.WriteLine($\"Weight Status: {weightStatus}\");"
   ]
  }
 ],
 "metadata": {
  "language_info": {
   "name": "csharp"
  },
  "orig_nbformat": 4
 },
 "nbformat": 4,
 "nbformat_minor": 2
}
