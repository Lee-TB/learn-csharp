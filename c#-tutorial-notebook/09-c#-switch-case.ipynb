{
 "cells": [
  {
   "cell_type": "markdown",
   "metadata": {},
   "source": [
    "# C# Switch-Case"
   ]
  },
  {
   "cell_type": "code",
   "execution_count": 6,
   "metadata": {
    "dotnet_interactive": {
     "language": "csharp"
    },
    "polyglot_notebook": {
     "kernelName": "csharp"
    },
    "vscode": {
     "languageId": "polyglot-notebook"
    }
   },
   "outputs": [
    {
     "name": "stdout",
     "output_type": "stream",
     "text": [
      "Q1\r\n"
     ]
    }
   ],
   "source": [
    "int month = 1;\n",
    "string quarter;\n",
    "\n",
    "switch(month)\n",
    "{\n",
    "    case 1:\n",
    "    case 2:\n",
    "    case 3:\n",
    "        quarter = \"Q1\";\n",
    "        break;\n",
    "    case 4:\n",
    "    case 5:\n",
    "    case 6:\n",
    "        quarter = \"Q2\";\n",
    "        break;\n",
    "    case 7:\n",
    "    case 8:    \n",
    "    case 9:\n",
    "        quarter = \"Q3\";\n",
    "        break;\n",
    "    case 10:\n",
    "    case 11:\n",
    "    case 12:\n",
    "        quarter = \"Q4\";\n",
    "        break;\n",
    "    default:\n",
    "        \n",
    "        break;\n",
    "}\n",
    "Console.WriteLine(quarter);"
   ]
  },
  {
   "cell_type": "markdown",
   "metadata": {},
   "source": [
    "##### C# switch statement with relation pattern\n",
    "starting in C# 9, "
   ]
  },
  {
   "cell_type": "code",
   "execution_count": null,
   "metadata": {
    "dotnet_interactive": {
     "language": "csharp"
    },
    "polyglot_notebook": {
     "kernelName": "csharp"
    },
    "vscode": {
     "languageId": "polyglot-notebook"
    }
   },
   "outputs": [],
   "source": []
  }
 ],
 "metadata": {
  "language_info": {
   "name": "csharp"
  },
  "orig_nbformat": 4
 },
 "nbformat": 4,
 "nbformat_minor": 2
}
