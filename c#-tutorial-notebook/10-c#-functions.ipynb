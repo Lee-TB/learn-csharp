{
 "cells": [
  {
   "cell_type": "markdown",
   "metadata": {},
   "source": [
    "# C# Functions"
   ]
  },
  {
   "cell_type": "code",
   "execution_count": 1,
   "metadata": {
    "dotnet_interactive": {
     "language": "csharp"
    },
    "polyglot_notebook": {
     "kernelName": "csharp"
    },
    "vscode": {
     "languageId": "polyglot-notebook"
    }
   },
   "outputs": [
    {
     "name": "stdout",
     "output_type": "stream",
     "text": [
      "Hi\r\n"
     ]
    }
   ],
   "source": [
    "void SayHi() {\n",
    "    Console.WriteLine(\"Hi\");\n",
    "}\n",
    "SayHi();"
   ]
  },
  {
   "cell_type": "markdown",
   "metadata": {},
   "source": [
    "### Passing information to functions"
   ]
  },
  {
   "cell_type": "code",
   "execution_count": 3,
   "metadata": {
    "dotnet_interactive": {
     "language": "csharp"
    },
    "polyglot_notebook": {
     "kernelName": "csharp"
    },
    "vscode": {
     "languageId": "polyglot-notebook"
    }
   },
   "outputs": [
    {
     "name": "stdout",
     "output_type": "stream",
     "text": [
      "HI Duc\r\n"
     ]
    }
   ],
   "source": [
    "void SayHi(string name) {\n",
    "    Console.WriteLine($\"HI {name}\");\n",
    "}\n",
    "SayHi(\"Duc\");"
   ]
  },
  {
   "cell_type": "markdown",
   "metadata": {},
   "source": [
    "In the previous example, the name is parameter of the SayHi() function and literal string \"Duc\" is called an argument."
   ]
  },
  {
   "cell_type": "markdown",
   "metadata": {},
   "source": [
    "### Rerturning a value"
   ]
  },
  {
   "cell_type": "code",
   "execution_count": 4,
   "metadata": {
    "dotnet_interactive": {
     "language": "csharp"
    },
    "polyglot_notebook": {
     "kernelName": "csharp"
    },
    "vscode": {
     "languageId": "polyglot-notebook"
    }
   },
   "outputs": [
    {
     "name": "stdout",
     "output_type": "stream",
     "text": [
      "hello Duc Tran\r\n"
     ]
    }
   ],
   "source": [
    "string GetName()\n",
    "{\n",
    "    return \"Duc Tran\";\n",
    "}\n",
    "\n",
    "Console.WriteLine(\"hello\" + \" \" + GetName());"
   ]
  },
  {
   "cell_type": "markdown",
   "metadata": {},
   "source": [
    "### Documenting C# functions with XML comments"
   ]
  },
  {
   "cell_type": "code",
   "execution_count": 6,
   "metadata": {
    "dotnet_interactive": {
     "language": "csharp"
    },
    "polyglot_notebook": {
     "kernelName": "csharp"
    },
    "vscode": {
     "languageId": "polyglot-notebook"
    }
   },
   "outputs": [
    {
     "name": "stdout",
     "output_type": "stream",
     "text": [
      "22.22222222222222\r\n"
     ]
    }
   ],
   "source": [
    "/// <summary>\n",
    "/// Calculate the body mass index (BMI) based on weight in kg and height in meter\n",
    "/// </summary>\n",
    "/// <param name=\"weight\">\n",
    "/// The weight in kilogram\n",
    "/// </param>\n",
    "/// <param name=\"height\">\n",
    "/// The height in meter\n",
    "/// </param>\n",
    "/// <returns>\n",
    "/// The body mass index\n",
    "/// </returns>\n",
    "double CalculateBMI(double weight, double height)\n",
    "{\n",
    "    return weight / (height * height);\n",
    "}\n",
    "Console.WriteLine(CalculateBMI(50.0, 1.5));"
   ]
  }
 ],
 "metadata": {
  "language_info": {
   "name": "csharp"
  },
  "orig_nbformat": 4
 },
 "nbformat": 4,
 "nbformat_minor": 2
}
