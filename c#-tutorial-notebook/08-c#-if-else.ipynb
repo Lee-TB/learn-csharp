{
 "cells": [
  {
   "cell_type": "markdown",
   "metadata": {},
   "source": [
    "# C# if else"
   ]
  },
  {
   "cell_type": "code",
   "execution_count": 2,
   "metadata": {
    "dotnet_interactive": {
     "language": "csharp"
    },
    "polyglot_notebook": {
     "kernelName": "csharp"
    },
    "vscode": {
     "languageId": "polyglot-notebook"
    }
   },
   "outputs": [
    {
     "name": "stdout",
     "output_type": "stream",
     "text": [
      "Let's go outside.\r\n"
     ]
    }
   ],
   "source": [
    "string condition = \"sunny\";\n",
    "bool free = true;\n",
    "\n",
    "if (free & condition == \"sunny\")\n",
    "{\n",
    "    Console.WriteLine(\"Let's go outside.\");\n",
    "}\n",
    "else\n",
    "{\n",
    "    Console.WriteLine(\"Just stay home.\");\n",
    "}"
   ]
  },
  {
   "cell_type": "code",
   "execution_count": 6,
   "metadata": {
    "dotnet_interactive": {
     "language": "csharp"
    },
    "polyglot_notebook": {
     "kernelName": "csharp"
    },
    "vscode": {
     "languageId": "polyglot-notebook"
    }
   },
   "outputs": [
    {
     "name": "stdout",
     "output_type": "stream",
     "text": [
      "Sunday\r\n"
     ]
    }
   ],
   "source": [
    "string dayName;\n",
    "int day = 1;\n",
    "if (day == 1)\n",
    "{\n",
    "    dayName = \"Sunday\";\n",
    "}\n",
    "else if (day == 2)\n",
    "{\n",
    "    dayName = \"Monday\";\n",
    "}\n",
    "else if (day == 3)\n",
    "{\n",
    "    dayName = \"Tuesday\";\n",
    "}\n",
    "else if (day == 4)\n",
    "{\n",
    "    dayName = \"Wednesday\";\n",
    "}\n",
    "else if (day == 5)\n",
    "{\n",
    "    dayName = \"Thursday\";\n",
    "}\n",
    "else if (day == 6)\n",
    "{\n",
    "    dayName = \"Friday\";\n",
    "}\n",
    "else if (day == 7)\n",
    "{\n",
    "    dayName = \"Saturday\";\n",
    "} \n",
    "else\n",
    "{\n",
    "    dayName = \"Unknown\";\n",
    "}\n",
    "Console.WriteLine(dayName);"
   ]
  }
 ],
 "metadata": {
  "language_info": {
   "name": "csharp"
  },
  "orig_nbformat": 4
 },
 "nbformat": 4,
 "nbformat_minor": 2
}
