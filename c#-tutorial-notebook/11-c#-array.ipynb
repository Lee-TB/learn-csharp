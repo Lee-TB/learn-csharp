{
 "cells": [
  {
   "cell_type": "markdown",
   "metadata": {},
   "source": [
    "# C# Array"
   ]
  },
  {
   "cell_type": "code",
   "execution_count": 2,
   "metadata": {
    "dotnet_interactive": {
     "language": "csharp"
    },
    "polyglot_notebook": {
     "kernelName": "csharp"
    },
    "vscode": {
     "languageId": "polyglot-notebook"
    }
   },
   "outputs": [],
   "source": [
    "int[] scores; // declares an array\n",
    "scores = new int[5]; // creates an array that holds five integers"
   ]
  },
  {
   "cell_type": "code",
   "execution_count": 1,
   "metadata": {
    "dotnet_interactive": {
     "language": "csharp"
    },
    "polyglot_notebook": {
     "kernelName": "csharp"
    },
    "vscode": {
     "languageId": "polyglot-notebook"
    }
   },
   "outputs": [],
   "source": [
    "int[] scores = new int[5];"
   ]
  },
  {
   "cell_type": "markdown",
   "metadata": {},
   "source": [
    "#### Initializes its elements"
   ]
  },
  {
   "cell_type": "code",
   "execution_count": 24,
   "metadata": {
    "dotnet_interactive": {
     "language": "csharp"
    },
    "polyglot_notebook": {
     "kernelName": "csharp"
    },
    "vscode": {
     "languageId": "polyglot-notebook"
    }
   },
   "outputs": [],
   "source": [
    "int[] scores = new int[5] {1,2,3,4,5}; "
   ]
  },
  {
   "cell_type": "code",
   "execution_count": 8,
   "metadata": {
    "dotnet_interactive": {
     "language": "csharp"
    },
    "polyglot_notebook": {
     "kernelName": "csharp"
    },
    "vscode": {
     "languageId": "polyglot-notebook"
    }
   },
   "outputs": [],
   "source": [
    "int[] scores = {1, 2, 3, 4, 5};"
   ]
  },
  {
   "cell_type": "code",
   "execution_count": 9,
   "metadata": {
    "dotnet_interactive": {
     "language": "csharp"
    },
    "polyglot_notebook": {
     "kernelName": "csharp"
    },
    "vscode": {
     "languageId": "polyglot-notebook"
    }
   },
   "outputs": [
    {
     "name": "stdout",
     "output_type": "stream",
     "text": [
      "1\n",
      "2\n",
      "3\n",
      "4\n",
      "5\n"
     ]
    }
   ],
   "source": [
    "int[] scores = {1, 2, 3, 4, 5};\n",
    "for(int i = 0; i < scores.Length; i++)\n",
    "{\n",
    "    Console.WriteLine(scores[i]);\n",
    "}"
   ]
  },
  {
   "cell_type": "code",
   "execution_count": 19,
   "metadata": {
    "dotnet_interactive": {
     "language": "csharp"
    },
    "polyglot_notebook": {
     "kernelName": "csharp"
    },
    "vscode": {
     "languageId": "polyglot-notebook"
    }
   },
   "outputs": [
    {
     "name": "stdout",
     "output_type": "stream",
     "text": [
      "1 2 3 4 5 \n"
     ]
    }
   ],
   "source": [
    "void PrintArray(int[] items)\n",
    "{\n",
    "    for(int i = 0; i < items.Length; i++)\n",
    "    {\n",
    "        Console.Write($\"{items[i]} \");\n",
    "    }\n",
    "    Console.WriteLine();\n",
    "}\n",
    "int[] scores = {1, 2, 3, 4, 5};\n",
    "\n",
    "PrintArray(scores);"
   ]
  },
  {
   "cell_type": "markdown",
   "metadata": {},
   "source": [
    "#### Indices"
   ]
  },
  {
   "cell_type": "code",
   "execution_count": 15,
   "metadata": {
    "dotnet_interactive": {
     "language": "csharp"
    },
    "polyglot_notebook": {
     "kernelName": "csharp"
    },
    "vscode": {
     "languageId": "polyglot-notebook"
    }
   },
   "outputs": [
    {
     "name": "stdout",
     "output_type": "stream",
     "text": [
      "5\n",
      "4\n"
     ]
    }
   ],
   "source": [
    "int[] scores = {1, 2, 3, 4, 5};\n",
    "Console.WriteLine(scores[^1]);\n",
    "Console.WriteLine(scores[^2]);"
   ]
  },
  {
   "cell_type": "code",
   "execution_count": 16,
   "metadata": {
    "dotnet_interactive": {
     "language": "csharp"
    },
    "polyglot_notebook": {
     "kernelName": "csharp"
    },
    "vscode": {
     "languageId": "polyglot-notebook"
    }
   },
   "outputs": [
    {
     "name": "stdout",
     "output_type": "stream",
     "text": [
      "3\r\n"
     ]
    }
   ],
   "source": [
    "Index lastIndex = ^3;\n",
    "Console.WriteLine(scores[lastIndex]);"
   ]
  },
  {
   "cell_type": "markdown",
   "metadata": {},
   "source": [
    "#### Ranges"
   ]
  },
  {
   "cell_type": "code",
   "execution_count": 20,
   "metadata": {
    "dotnet_interactive": {
     "language": "csharp"
    },
    "polyglot_notebook": {
     "kernelName": "csharp"
    },
    "vscode": {
     "languageId": "polyglot-notebook"
    }
   },
   "outputs": [
    {
     "name": "stdout",
     "output_type": "stream",
     "text": [
      "2 3 4 5 \n",
      "2 3 4 \n",
      "1 2 3 4 \n"
     ]
    }
   ],
   "source": [
    "int[] scores = {1, 2, 3, 4, 5};\n",
    "PrintArray(scores[1..]);\n",
    "PrintArray(scores[1..4]);\n",
    "PrintArray(scores[..4]);\n"
   ]
  },
  {
   "cell_type": "code",
   "execution_count": 22,
   "metadata": {
    "dotnet_interactive": {
     "language": "csharp"
    },
    "polyglot_notebook": {
     "kernelName": "csharp"
    },
    "vscode": {
     "languageId": "polyglot-notebook"
    }
   },
   "outputs": [
    {
     "name": "stdout",
     "output_type": "stream",
     "text": [
      "3 2 \n"
     ]
    }
   ],
   "source": [
    "int[] scores = {5, 4, 3, 2, 1};\n",
    "\n",
    "Range arrayRange = 2..4;\n",
    "PrintArray(scores[arrayRange]);"
   ]
  },
  {
   "cell_type": "markdown",
   "metadata": {},
   "source": [
    "### Multidimensional Arrays"
   ]
  },
  {
   "cell_type": "code",
   "execution_count": 27,
   "metadata": {
    "dotnet_interactive": {
     "language": "csharp"
    },
    "polyglot_notebook": {
     "kernelName": "csharp"
    },
    "vscode": {
     "languageId": "polyglot-notebook"
    }
   },
   "outputs": [],
   "source": [
    "int[,] matrix=new int[2, 3];\n",
    "int[,,] tensor = new int [3,3,3];"
   ]
  },
  {
   "cell_type": "code",
   "execution_count": 28,
   "metadata": {
    "dotnet_interactive": {
     "language": "csharp"
    },
    "polyglot_notebook": {
     "kernelName": "csharp"
    },
    "vscode": {
     "languageId": "polyglot-notebook"
    }
   },
   "outputs": [],
   "source": [
    "int[,] matrix = new int[2, 3] {\n",
    "    {1, 2, 3},\n",
    "    {4, 5, 6},\n",
    "};"
   ]
  },
  {
   "cell_type": "code",
   "execution_count": 29,
   "metadata": {
    "dotnet_interactive": {
     "language": "csharp"
    },
    "polyglot_notebook": {
     "kernelName": "csharp"
    },
    "vscode": {
     "languageId": "polyglot-notebook"
    }
   },
   "outputs": [],
   "source": [
    "int[,] matrix = {\n",
    "    {1, 2, 3},\n",
    "    {4, 5, 6},\n",
    "};"
   ]
  },
  {
   "cell_type": "code",
   "execution_count": null,
   "metadata": {
    "dotnet_interactive": {
     "language": "csharp"
    },
    "polyglot_notebook": {
     "kernelName": "csharp"
    },
    "vscode": {
     "languageId": "polyglot-notebook"
    }
   },
   "outputs": [],
   "source": [
    "int[,,] tensor = new int[2,2,3] { \n",
    "    { { 1, 2, 3 }, { 4, 5, 6 } },\n",
    "    { { 7, 8, 9 }, { 10, 11, 12 } } \n",
    "};"
   ]
  },
  {
   "cell_type": "markdown",
   "metadata": {},
   "source": [
    "#### Accessing array elements"
   ]
  },
  {
   "cell_type": "code",
   "execution_count": 31,
   "metadata": {
    "dotnet_interactive": {
     "language": "csharp"
    },
    "polyglot_notebook": {
     "kernelName": "csharp"
    },
    "vscode": {
     "languageId": "polyglot-notebook"
    }
   },
   "outputs": [
    {
     "name": "stdout",
     "output_type": "stream",
     "text": [
      "1\n",
      "2\n",
      "5\n"
     ]
    }
   ],
   "source": [
    "int[,] matrix = {\n",
    "    {1, 2, 3},\n",
    "    {4, 5, 6},\n",
    "};\n",
    "Console.WriteLine(matrix[0,0]);\n",
    "Console.WriteLine(matrix[0,1]);\n",
    "Console.WriteLine(matrix[1,1]);"
   ]
  },
  {
   "cell_type": "markdown",
   "metadata": {},
   "source": [
    "##### Getting dimension length"
   ]
  },
  {
   "cell_type": "code",
   "execution_count": 35,
   "metadata": {
    "dotnet_interactive": {
     "language": "csharp"
    },
    "polyglot_notebook": {
     "kernelName": "csharp"
    },
    "vscode": {
     "languageId": "polyglot-notebook"
    }
   },
   "outputs": [
    {
     "name": "stdout",
     "output_type": "stream",
     "text": [
      "0,1,2\n",
      "1,2,3\n",
      "2,3,4\n"
     ]
    }
   ],
   "source": [
    "int[,] matrix = new int[3, 3];\n",
    "\n",
    "for(int i = 0; i < matrix.GetLength(0); i++)\n",
    "{\n",
    "    for(int j = 0; j < matrix.GetLength(1); j++)\n",
    "    {\n",
    "        matrix[i, j] = i + j;\n",
    "    }\n",
    "}\n",
    "\n",
    "// output the 2D array\n",
    "void PrintArray2D(int[,] array2d)\n",
    "{\n",
    "    for (int i = 0; i < array2d.GetLength(0); i++)\n",
    "    {\n",
    "        for (int j = 0; j < array2d.GetLength(1); j++)\n",
    "        {\n",
    "            Console.Write($\"{array2d[i, j]}\");\n",
    "            Console.Write(j < array2d.GetLength(1) - 1 ? \",\" : \"\");\n",
    "        }\n",
    "        Console.WriteLine();\n",
    "    }\n",
    "}\n",
    "\n",
    "PrintArray2D(matrix);\n"
   ]
  },
  {
   "cell_type": "markdown",
   "metadata": {},
   "source": [
    "### Foreach"
   ]
  },
  {
   "cell_type": "markdown",
   "metadata": {},
   "source": [
    "basic"
   ]
  },
  {
   "cell_type": "code",
   "execution_count": 39,
   "metadata": {
    "dotnet_interactive": {
     "language": "csharp"
    },
    "polyglot_notebook": {
     "kernelName": "csharp"
    },
    "vscode": {
     "languageId": "polyglot-notebook"
    }
   },
   "outputs": [
    {
     "name": "stdout",
     "output_type": "stream",
     "text": [
      "5 2 1 3 4 "
     ]
    }
   ],
   "source": [
    "int[] scores = { 5, 2, 1, 3, 4 };\n",
    "foreach (int score in scores)\n",
    "{\n",
    "    Console.Write($\"{score} \");\n",
    "}"
   ]
  },
  {
   "cell_type": "markdown",
   "metadata": {},
   "source": [
    "break and continue"
   ]
  },
  {
   "cell_type": "code",
   "execution_count": 41,
   "metadata": {
    "dotnet_interactive": {
     "language": "csharp"
    },
    "polyglot_notebook": {
     "kernelName": "csharp"
    },
    "vscode": {
     "languageId": "polyglot-notebook"
    }
   },
   "outputs": [
    {
     "name": "stdout",
     "output_type": "stream",
     "text": [
      "5 2 \n",
      "5 2 3 4 "
     ]
    }
   ],
   "source": [
    "int[] scores = { 5, 2, 1, 3, 4 };\n",
    "foreach (int score in scores)\n",
    "{\n",
    "    if(score == 1) break;\n",
    "    Console.Write($\"{score} \");\n",
    "}\n",
    "Console.WriteLine();\n",
    "foreach (int score in scores)\n",
    "{\n",
    "    if(score == 1) continue;\n",
    "    Console.Write($\"{score} \");\n",
    "}"
   ]
  },
  {
   "cell_type": "markdown",
   "metadata": {},
   "source": [
    "The `foreach` statements doesn't allow you to change the array elements."
   ]
  },
  {
   "cell_type": "code",
   "execution_count": 43,
   "metadata": {
    "dotnet_interactive": {
     "language": "csharp"
    },
    "polyglot_notebook": {
     "kernelName": "csharp"
    },
    "vscode": {
     "languageId": "polyglot-notebook"
    }
   },
   "outputs": [
    {
     "ename": "Error",
     "evalue": "(5,5): error CS1656: Cannot assign to 'score' because it is a 'foreach iteration variable'",
     "output_type": "error",
     "traceback": [
      "(5,5): error CS1656: Cannot assign to 'score' because it is a 'foreach iteration variable'"
     ]
    }
   ],
   "source": [
    "int[] scores = { 5, 2, 1, 3, 4 };\n",
    "\n",
    "foreach (int score in scores)\n",
    "{\n",
    "    score = score * 2; // error\n",
    "    Console.Write($\"{score} \");\n",
    "}"
   ]
  },
  {
   "cell_type": "markdown",
   "metadata": {},
   "source": [
    "To change the array elements inside the loop, you need to use the for statements"
   ]
  },
  {
   "cell_type": "code",
   "execution_count": 45,
   "metadata": {
    "dotnet_interactive": {
     "language": "csharp"
    },
    "polyglot_notebook": {
     "kernelName": "csharp"
    },
    "vscode": {
     "languageId": "polyglot-notebook"
    }
   },
   "outputs": [
    {
     "name": "stdout",
     "output_type": "stream",
     "text": [
      "10 4 2 6 8 "
     ]
    }
   ],
   "source": [
    "int[] scores = { 5, 2, 1, 3, 4 };\n",
    "\n",
    "for (int i = 0; i<scores.Length; i++)\n",
    "{\n",
    "    scores[i] = scores[i] * 2; // error\n",
    "    Console.Write($\"{scores[i]} \");\n",
    "}\n"
   ]
  },
  {
   "cell_type": "markdown",
   "metadata": {},
   "source": [
    "using the `foreach` with a multidimensional array"
   ]
  },
  {
   "cell_type": "code",
   "execution_count": 46,
   "metadata": {
    "dotnet_interactive": {
     "language": "csharp"
    },
    "polyglot_notebook": {
     "kernelName": "csharp"
    },
    "vscode": {
     "languageId": "polyglot-notebook"
    }
   },
   "outputs": [
    {
     "name": "stdout",
     "output_type": "stream",
     "text": [
      "1 2 3 4 5 6 "
     ]
    }
   ],
   "source": [
    "int[,] matrix =\n",
    "{\n",
    "    {1,2,3 },\n",
    "    {4,5,6 }\n",
    "};\n",
    "\n",
    "foreach(var e in matrix)\n",
    "{\n",
    "    Console.Write($\"{e} \");\n",
    "}"
   ]
  },
  {
   "cell_type": "markdown",
   "metadata": {},
   "source": [
    "### Passing an Array to a Function"
   ]
  },
  {
   "cell_type": "code",
   "execution_count": 49,
   "metadata": {
    "dotnet_interactive": {
     "language": "csharp"
    },
    "polyglot_notebook": {
     "kernelName": "csharp"
    },
    "vscode": {
     "languageId": "polyglot-notebook"
    }
   },
   "outputs": [],
   "source": [
    "void PrintArray(decimal[] elements)\n",
    "{\n",
    "    foreach(var element in elements)\n",
    "    {\n",
    "        Console.WriteLine($\"{element:0.##}\");\n",
    "    }\n",
    "}"
   ]
  },
  {
   "cell_type": "code",
   "execution_count": 50,
   "metadata": {
    "dotnet_interactive": {
     "language": "csharp"
    },
    "polyglot_notebook": {
     "kernelName": "csharp"
    },
    "vscode": {
     "languageId": "polyglot-notebook"
    }
   },
   "outputs": [
    {
     "name": "stdout",
     "output_type": "stream",
     "text": [
      "100000\n",
      "120000\n",
      "150000\n"
     ]
    }
   ],
   "source": [
    "decimal[] salaries = {100_000, 120_000, 150_000};\n",
    "PrintArray(salaries);"
   ]
  },
  {
   "cell_type": "markdown",
   "metadata": {},
   "source": [
    "Note that you can initialize and pass a new array to the function in one step like this"
   ]
  },
  {
   "cell_type": "code",
   "execution_count": 53,
   "metadata": {
    "dotnet_interactive": {
     "language": "csharp"
    },
    "polyglot_notebook": {
     "kernelName": "csharp"
    },
    "vscode": {
     "languageId": "polyglot-notebook"
    }
   },
   "outputs": [
    {
     "name": "stdout",
     "output_type": "stream",
     "text": [
      "100000\n",
      "120000\n",
      "150000\n"
     ]
    }
   ],
   "source": [
    "PrintArray(new decimal[]{100_000, 120_000, 150_000});"
   ]
  },
  {
   "cell_type": "markdown",
   "metadata": {},
   "source": [
    "#### Changing the array elements"
   ]
  },
  {
   "cell_type": "markdown",
   "metadata": {},
   "source": [
    "Because arrays are reference types, the function can change the values of their elements. For example:"
   ]
  },
  {
   "cell_type": "code",
   "execution_count": 55,
   "metadata": {
    "dotnet_interactive": {
     "language": "csharp"
    },
    "polyglot_notebook": {
     "kernelName": "csharp"
    },
    "vscode": {
     "languageId": "polyglot-notebook"
    }
   },
   "outputs": [],
   "source": [
    "void Increase(decimal[] salaries, decimal percentage = 0.05m)\n",
    "{\n",
    "    for(int i = 0; i < salaries.Length; i++)\n",
    "    {\n",
    "        salaries[i] = salaries[i] * (1 + percentage);\n",
    "    }\n",
    "}"
   ]
  },
  {
   "cell_type": "code",
   "execution_count": 56,
   "metadata": {
    "dotnet_interactive": {
     "language": "csharp"
    },
    "polyglot_notebook": {
     "kernelName": "csharp"
    },
    "vscode": {
     "languageId": "polyglot-notebook"
    }
   },
   "outputs": [
    {
     "name": "stdout",
     "output_type": "stream",
     "text": [
      "Before increment:\n",
      "100000\n",
      "120000\n",
      "150000\n",
      "After increment:\n",
      "105000\n",
      "126000\n",
      "157500\n"
     ]
    }
   ],
   "source": [
    "decimal[] salaries = {100_000, 120_000, 150_000};\n",
    "\n",
    "Console.WriteLine(\"Before increment:\");\n",
    "PrintArray(salaries);\n",
    "\n",
    "Increase(salaries);\n",
    "\n",
    "Console.WriteLine(\"After increment:\");\n",
    "PrintArray(salaries);"
   ]
  }
 ],
 "metadata": {
  "language_info": {
   "name": "csharp"
  },
  "orig_nbformat": 4
 },
 "nbformat": 4,
 "nbformat_minor": 2
}
