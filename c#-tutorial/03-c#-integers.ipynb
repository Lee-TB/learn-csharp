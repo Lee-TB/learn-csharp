{
 "cells": [
  {
   "cell_type": "markdown",
   "metadata": {},
   "source": [
    "# C# Intergers\n",
    "read: https://www.csharptutorial.net/csharp-tutorial/csharp-integer/"
   ]
  },
  {
   "cell_type": "code",
   "execution_count": 17,
   "metadata": {
    "dotnet_interactive": {
     "language": "csharp"
    },
    "polyglot_notebook": {
     "kernelName": "csharp"
    },
    "vscode": {
     "languageId": "polyglot-notebook"
    }
   },
   "outputs": [
    {
     "data": {
      "text/html": [
       "<div class=\"dni-plaintext\"><pre>1000000</pre></div><style>\r\n",
       ".dni-code-hint {\r\n",
       "    font-style: italic;\r\n",
       "    overflow: hidden;\r\n",
       "    white-space: nowrap;\r\n",
       "}\r\n",
       ".dni-treeview {\r\n",
       "    white-space: nowrap;\r\n",
       "}\r\n",
       ".dni-treeview td {\r\n",
       "    vertical-align: top;\r\n",
       "    text-align: start;\r\n",
       "}\r\n",
       "details.dni-treeview {\r\n",
       "    padding-left: 1em;\r\n",
       "}\r\n",
       "table td {\r\n",
       "    text-align: start;\r\n",
       "}\r\n",
       "table tr { \r\n",
       "    vertical-align: top; \r\n",
       "    margin: 0em 0px;\r\n",
       "}\r\n",
       "table tr td pre \r\n",
       "{ \r\n",
       "    vertical-align: top !important; \r\n",
       "    margin: 0em 0px !important;\r\n",
       "} \r\n",
       "table th {\r\n",
       "    text-align: start;\r\n",
       "}\r\n",
       "</style>"
      ]
     },
     "metadata": {},
     "output_type": "display_data"
    }
   ],
   "source": [
    "int num = 1_000_000;\n",
    "num"
   ]
  },
  {
   "cell_type": "code",
   "execution_count": 3,
   "metadata": {
    "vscode": {
     "languageId": "polyglot-notebook"
    }
   },
   "outputs": [
    {
     "data": {
      "text/plain": [
       "2147483647 -2147483648"
      ]
     },
     "metadata": {},
     "output_type": "display_data"
    }
   ],
   "source": [
    "int.MaxValue + \" \" + int.MinValue"
   ]
  },
  {
   "cell_type": "code",
   "execution_count": 16,
   "metadata": {
    "dotnet_interactive": {
     "language": "csharp"
    },
    "polyglot_notebook": {
     "kernelName": "csharp"
    },
    "vscode": {
     "languageId": "polyglot-notebook"
    }
   },
   "outputs": [
    {
     "name": "stdout",
     "output_type": "stream",
     "text": [
      "sbyte range: (-128,127)\n",
      "byte range: (0,255)\n",
      "short range: (-32768,32767)\n",
      "ushort range: (0,65535)\n",
      "int range: (-2147483648,2147483647)\n",
      "uint range: (0,4294967295)\n",
      "long range: (-9223372036854775808,9223372036854775807)\n",
      "ulong range: (0,18446744073709551615)\n"
     ]
    }
   ],
   "source": [
    "Console.WriteLine($\"sbyte range: ({sbyte.MinValue},{sbyte.MaxValue})\");\n",
    "Console.WriteLine($\"byte range: ({byte.MinValue},{byte.MaxValue})\");\n",
    "Console.WriteLine($\"short range: ({short.MinValue},{short.MaxValue})\");\n",
    "Console.WriteLine($\"ushort range: ({ushort.MinValue},{ushort.MaxValue})\");\n",
    "Console.WriteLine($\"int range: ({int.MinValue},{int.MaxValue})\");\n",
    "Console.WriteLine($\"uint range: ({uint.MinValue},{uint.MaxValue})\");\n",
    "Console.WriteLine($\"long range: ({long.MinValue},{long.MaxValue})\");\n",
    "Console.WriteLine($\"ulong range: ({ulong.MinValue},{ulong.MaxValue})\");\n"
   ]
  },
  {
   "cell_type": "code",
   "execution_count": 18,
   "metadata": {
    "dotnet_interactive": {
     "language": "csharp"
    },
    "polyglot_notebook": {
     "kernelName": "csharp"
    },
    "vscode": {
     "languageId": "polyglot-notebook"
    }
   },
   "outputs": [],
   "source": [
    "int address = 0x5A; // hexadecimal\n",
    "int flag = 0b10011110; // binary"
   ]
  }
 ],
 "metadata": {
  "language_info": {
   "name": "csharp"
  },
  "orig_nbformat": 4
 },
 "nbformat": 4,
 "nbformat_minor": 2
}
